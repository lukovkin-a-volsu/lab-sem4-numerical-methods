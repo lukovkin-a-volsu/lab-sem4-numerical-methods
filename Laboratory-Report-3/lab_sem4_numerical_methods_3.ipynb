{
  "nbformat": 4,
  "nbformat_minor": 0,
  "metadata": {
    "colab": {
      "provenance": []
    },
    "kernelspec": {
      "name": "python3",
      "display_name": "Python 3"
    },
    "language_info": {
      "name": "python"
    }
  },
  "cells": [
    {
      "cell_type": "markdown",
      "source": [
        "# Imports"
      ],
      "metadata": {
        "id": "pQHalKiIdWCQ"
      }
    },
    {
      "cell_type": "code",
      "execution_count": null,
      "metadata": {
        "id": "Bl6O1NHdXHU0"
      },
      "outputs": [],
      "source": [
        "import matplotlib\n",
        "import matplotlib.pyplot as plt\n",
        "import sys\n",
        "from math import exp"
      ]
    },
    {
      "cell_type": "markdown",
      "source": [
        "#Initializing"
      ],
      "metadata": {
        "id": "GOJqqchgw5HC"
      }
    },
    {
      "cell_type": "code",
      "source": [
        "style_url = r\"https://github.com/dhaitz/matplotlib-stylesheets/raw/master/pitayasmoothie-dark.mplstyle\"\n",
        "matplotlib.style.use(style_url)\n",
        "plt.minorticks_on()\n",
        "plt.grid(True)\n",
        "plt.axhline(0, color='black')\n",
        "plt.axvline(0, color='black')"
      ],
      "metadata": {
        "colab": {
          "base_uri": "https://localhost:8080/",
          "height": 447
        },
        "id": "DHWeIp_Qw6FL",
        "outputId": "21ab8ca5-10ea-4604-9e53-337cfe466c94"
      },
      "execution_count": null,
      "outputs": [
        {
          "output_type": "execute_result",
          "data": {
            "text/plain": [
              "<matplotlib.lines.Line2D at 0x7a9ed72ab130>"
            ]
          },
          "metadata": {},
          "execution_count": 2
        },
        {
          "output_type": "display_data",
          "data": {
            "text/plain": [
              "<Figure size 640x480 with 1 Axes>"
            ],
            "image/png": "[encoded data removed]"
          },
          "metadata": {}
        }
      ]
    },
    {
      "cell_type": "markdown",
      "source": [
        "![image.png](data:image/png;base64,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)"
      ],
      "metadata": {
        "id": "8KeCw8LOxHqh"
      }
    },
    {
      "cell_type": "markdown",
      "source": [
        "#Calculating"
      ],
      "metadata": {
        "id": "lFjp-suaxAna"
      }
    },
    {
      "cell_type": "code",
      "source": [
        "def f(x):\n",
        "  return exp(1/x)\n",
        "\n",
        "def calc(a, b, n):\n",
        "  h = abs(b - a) / n\n",
        "  x = a\n",
        "  points = [[], []]\n",
        "  while x <= b:\n",
        "    y = f(x)\n",
        "    points[0].append(x)\n",
        "    points[1].append(y)\n",
        "    x += h\n",
        "  return points\n",
        "\n",
        "def int_rect_l(a, b, n):\n",
        "  h = abs(a - b) / n\n",
        "  sum = 0\n",
        "  for i in range(0, n):\n",
        "    x = a + i * h\n",
        "    sum += f(x)\n",
        "  sum *= h\n",
        "  return sum\n",
        "\n",
        "def int_rect_r(a, b, n):\n",
        "  h = abs(a - b) / n\n",
        "  sum = 0\n",
        "  for i in range(1, n + 1):\n",
        "    x = a + i * h\n",
        "    sum += f(x)\n",
        "  sum *= h\n",
        "  return sum\n",
        "\n",
        "def int_rect_c(a, b, n):\n",
        "  h = abs(a - b) / n\n",
        "  sum = 0\n",
        "  for i in range(0, n):\n",
        "    x = a + (i + .5) * h\n",
        "    sum += f(x)\n",
        "  sum *= h\n",
        "  return sum\n",
        "\n",
        "def int_trapeze(a, b, n):\n",
        "  h = abs(a - b) / n\n",
        "  sum = f(a) + f(b)\n",
        "  x = a\n",
        "  for i in range(1, n):\n",
        "    x = a + i * h\n",
        "    c = 2\n",
        "    sum += c * f(x)\n",
        "  sum *= h /2\n",
        "  return sum\n",
        "\n",
        "def int_simpson(a, b, n):\n",
        "  h = abs(a - b) / n\n",
        "  print(h)\n",
        "  sum = f(a) + f(b)\n",
        "  for i in range(1, n):\n",
        "    x = a + i * h\n",
        "    c = 2 if i % 2 == 0 else 4\n",
        "    sum += c * f(x)\n",
        "  sum *= h / 3\n",
        "  return sum"
      ],
      "metadata": {
        "id": "2wAXyne6xBVe"
      },
      "execution_count": null,
      "outputs": []
    },
    {
      "cell_type": "markdown",
      "source": [
        "# Calculated values"
      ],
      "metadata": {
        "id": "unDYRAhQyQHG"
      }
    },
    {
      "cell_type": "code",
      "source": [
        "a = 2; b = 4; N = 100\n",
        "x, y = calc(a, b, N)\n",
        "\n",
        "intl = int_rect_l(a, b, N)\n",
        "intr = int_rect_r(a, b, N)\n",
        "intc = int_rect_c(a, b, N)\n",
        "inttrap = int_rect_c(a, b, N)\n",
        "intsimps = int_simpson(a, b, N)\n",
        "\n",
        "intl2 = int_rect_l(a, b, 2*N)\n",
        "intr2 = int_rect_r(a, b, 2*N)\n",
        "intc2 = int_rect_c(a, b, 2*N)\n",
        "inttrap2 = int_rect_c(a, b, 2*N)\n",
        "intsimps2 = int_simpson(a, b, 2*N)"
      ],
      "metadata": {
        "colab": {
          "base_uri": "https://localhost:8080/"
        },
        "id": "ijlyCr7OySHB",
        "outputId": "e821b1ca-e803-47eb-8119-430ce020c91a"
      },
      "execution_count": null,
      "outputs": [
        {
          "output_type": "stream",
          "name": "stdout",
          "text": [
            "0.02\n",
            "0.01\n"
          ]
        }
      ]
    },
    {
      "cell_type": "markdown",
      "source": [
        "# Display"
      ],
      "metadata": {
        "id": "hE1z-Vznyd_5"
      }
    },
    {
      "cell_type": "code",
      "source": [
        "fig, ax = plt.subplots()\n",
        "ax.axhline(0, color='gray')\n",
        "ax.axvline(0, color='gray')\n",
        "ax.set_title('Исходная функция')\n",
        "plt.plot(x, y)\n",
        "\n",
        "\n",
        "print('Ожидаемый результат:', 2.835422294875797)\n",
        "print('N:', N)\n",
        "print('Формула прямоугольников слева:', intl)\n",
        "print('Формула прямоугольников справа:', intr)\n",
        "print('Формула центральных прямоугольников:', intc)\n",
        "print('Формула трапеции:', inttrap)\n",
        "print('Формула Симпсона:', intsimps)\n",
        "print('N:', N*2)\n",
        "print('Формула прямоугольников слева:', intl2)\n",
        "print('Формула прямоугольников справа:', intr2)\n",
        "print('Формула центральных прямоугольников:', intc2)\n",
        "print('Формула трапеции:', inttrap2)\n",
        "print('Формула Симпсона:', intsimps2)"
      ],
      "metadata": {
        "colab": {
          "base_uri": "https://localhost:8080/",
          "height": 672
        },
        "id": "zAi7fhOoyeH9",
        "outputId": "90d8d6f5-858f-4805-91b0-f4c387c14b06"
      },
      "execution_count": null,
      "outputs": [
        {
          "output_type": "stream",
          "name": "stdout",
          "text": [
            "Ожидаемый результат: 2.835422294875797\n",
            "N: 100\n",
            "Формула прямоугольников слева: 2.8390803175035213\n",
            "Формула прямоугольников справа: 2.8317864004232733\n",
            "Формула центральных прямоугольников: 2.835416762908261\n",
            "Формула трапеции: 2.835416762908261\n",
            "Формула Симпсона: 2.835422295689045\n",
            "N: 200\n",
            "Формула прямоугольников слева: 2.837248540205892\n",
            "Формула прямоугольников справа: 2.8336015816657683\n",
            "Формула центральных прямоугольников: 2.8354209118505493\n",
            "Формула трапеции: 2.8354209118505493\n",
            "Формула Симпсона: 2.835422294926639\n"
          ]
        },
        {
          "output_type": "display_data",
          "data": {
            "text/plain": [
              "<Figure size 640x480 with 1 Axes>"
            ],
            "image/png": "[encoded data removed]"
          },
          "metadata": {}
        }
      ]
    }
  ]
}