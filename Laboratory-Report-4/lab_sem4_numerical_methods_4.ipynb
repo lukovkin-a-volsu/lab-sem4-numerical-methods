{
  "nbformat": 4,
  "nbformat_minor": 0,
  "metadata": {
    "colab": {
      "provenance": []
    },
    "kernelspec": {
      "name": "python3",
      "display_name": "Python 3"
    },
    "language_info": {
      "name": "python"
    }
  },
  "cells": [
    {
      "cell_type": "markdown",
      "source": [
        "# Imports"
      ],
      "metadata": {
        "id": "cA9UDJk9cD76"
      }
    },
    {
      "cell_type": "code",
      "source": [
        "import matplotlib\n",
        "import matplotlib.pyplot as plt\n",
        "import sys\n",
        "from pprint import pprint"
      ],
      "metadata": {
        "id": "kCg0o9n9IkHx"
      },
      "execution_count": null,
      "outputs": []
    },
    {
      "cell_type": "markdown",
      "source": [
        "# Initializing"
      ],
      "metadata": {
        "id": "puSM2L52cG_6"
      }
    },
    {
      "cell_type": "code",
      "source": [
        "style_url = r\"https://github.com/dhaitz/matplotlib-stylesheets/raw/master/pitayasmoothie-dark.mplstyle\"\n",
        "matplotlib.style.use(style_url)\n",
        "plt.minorticks_on()\n",
        "plt.grid(True)\n",
        "plt.axhline(0, color='black')\n",
        "plt.axvline(0, color='black')"
      ],
      "metadata": {
        "colab": {
          "base_uri": "https://localhost:8080/",
          "height": 447
        },
        "id": "TKaefcRYIl89",
        "outputId": "f7cdd0e6-e7b9-4f39-b3b2-bfe2bc5d5dbb"
      },
      "execution_count": null,
      "outputs": [
        {
          "output_type": "execute_result",
          "data": {
            "text/plain": [
              "<matplotlib.lines.Line2D at 0x7b49c857efb0>"
            ]
          },
          "metadata": {},
          "execution_count": 4
        },
        {
          "output_type": "display_data",
          "data": {
            "text/plain": [
              "<Figure size 640x480 with 1 Axes>"
            ],
            "image/png": "[encoded data removed]"
          },
          "metadata": {}
        }
      ]
    },
    {
      "cell_type": "markdown",
      "source": [
        "#Calculating"
      ],
      "metadata": {
        "id": "RL4-Vtb6MUsI"
      }
    },
    {
      "cell_type": "code",
      "source": [
        "def gauss(a, b):\n",
        "  n = len(a)\n",
        "  for i in range(n):\n",
        "    for j in range(i + 1, n):\n",
        "      if a[i][i] == 0:\n",
        "        for k in range(i + 1, n):\n",
        "          if a[i][k] != 0:\n",
        "            a[i], a[k] = a[k], a[i]\n",
        "            b[i], b[k] = b[k], b[i]\n",
        "            break\n",
        "      ratio = a[j][i] / a[i][i]\n",
        "      for k in range(n):\n",
        "        a[j][k] -= a[i][k] * ratio\n",
        "      b[j] -= b[i] * ratio\n",
        "\n",
        "  n = len(b)\n",
        "  x = [0] * n\n",
        "  for i in range(n - 1, -1, -1):\n",
        "      x[i] = b[i]\n",
        "      for j in range(i + 1, n):\n",
        "          x[i] -= a[i][j] * x[j]\n",
        "      x[i] /= a[i][i]\n",
        "  return x\n",
        "\n",
        "# def gauss_rev(a, b):\n",
        "#   n = len(a)\n",
        "#   x = [0 for _ in range(len(b))]\n",
        "#   for i in range(1, n + 1):\n",
        "#     r = b[n - i]\n",
        "#     for j in range(n + 1 - i, n):\n",
        "#       r -= x[j] * a[n - i][j]\n",
        "#     x[n - i] = round(r / a[n - i][n - i])\n",
        "#   return x\n",
        "\n",
        "# def gauss_rev(a, b):\n",
        "#     n = len(b)\n",
        "#     x = [0] * n\n",
        "#     for i in range(n - 1, -1, -1):\n",
        "#         x[i] = b[i]\n",
        "#         for j in range(i + 1, n):\n",
        "#             x[i] -= round(a[i][j] * x[j])\n",
        "#         x[i] /= a[i][i]\n",
        "#     return x\n",
        "\n",
        "def tridiagonal(m, q):\n",
        "  n = len(m)\n",
        "  A = [0] * n\n",
        "  B = [0] * n\n",
        "  x = [0] * n\n",
        "\n",
        "  # Инициализация начальных значений\n",
        "  a = 0\n",
        "  b = m[0][0]\n",
        "  c = m[0][1]\n",
        "  d = q[0]\n",
        "  A[0] = -c / b\n",
        "  B[0] = d / b\n",
        "\n",
        "  for i in range(1, n):\n",
        "    a = m[i][i - 1]\n",
        "    b = m[i][i]\n",
        "    if (i < n - 1):\n",
        "      c = m[i][i + 1]\n",
        "    else:\n",
        "      c = 0\n",
        "    d = q[i]\n",
        "    A[i] = -c / (a * A[i - 1] + b)\n",
        "    B[i] = (d - a * B[i - 1]) / (a * A[i - 1] + b)\n",
        "\n",
        "  # Обратный проход\n",
        "  B[n - 1] = (d - a * B[n - 2])/(b + a*A[n - 2])\n",
        "  A[n - 1] = 0\n",
        "  x[n - 1] = B[n - 1]\n",
        "  for i in range(n - 2, -1, -1):\n",
        "    x[i] = A[i] * x[i + 1] + B[i]\n",
        "\n",
        "  return x\n",
        "\n",
        "def mprint(a):\n",
        "  for i in range(len(a)):\n",
        "    for j in range(len(a[i])):\n",
        "      print(f'{a[i][j]: >+10.3f}',  end=' ')\n",
        "    print()\n",
        "\n",
        "def fprint(a):\n",
        "  for i in range(len(a)):\n",
        "    print(f'{a[i]: >+10.3f}',  end=' ')\n",
        "    # print(f'{a[i]: >10.0f}',  end=' ')\n",
        "  print()"
      ],
      "metadata": {
        "id": "iBleoxUCLofw"
      },
      "execution_count": null,
      "outputs": []
    },
    {
      "cell_type": "markdown",
      "source": [
        "![image.png](data:image/png;base64,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)"
      ],
      "metadata": {
        "id": "KatZbeafOeWm"
      }
    },
    {
      "cell_type": "markdown",
      "source": [
        "# Gauss"
      ],
      "metadata": {
        "id": "2PEHrwAzMyPh"
      }
    },
    {
      "cell_type": "code",
      "source": [
        "\n",
        "matrix1 = [\n",
        "    [5, -7, 7, 7, 2, 5],\n",
        "    [-5, -6, -5, 7, -5, -3],\n",
        "    [0, 4, 5, 5, -6, -4],\n",
        "    [-8, 2, -6, 7, -4, -3],\n",
        "    [6, 4, 5, -6, 3, -7],\n",
        "    [6, 9, -6, 7, -8, -5],\n",
        "]\n",
        "\n",
        "coeff1 = [-57, -59, -80, -33, 40, 16]\n",
        "\n",
        "\n",
        "res1 = gauss(matrix1, coeff1)\n",
        "\n",
        "print('Треугольный вид:')\n",
        "mprint(matrix1)\n",
        "print('Свободные коэффициенты:')\n",
        "fprint(coeff1)\n",
        "print('Вычисленное решение:')\n",
        "fprint(res1)\n"
      ],
      "metadata": {
        "colab": {
          "base_uri": "https://localhost:8080/"
        },
        "id": "C7yW5CyDavCU",
        "outputId": "13676623-4c9c-4a51-d101-c9ae7f8d643f"
      },
      "execution_count": null,
      "outputs": [
        {
          "output_type": "stream",
          "name": "stdout",
          "text": [
            "Треугольный вид:\n",
            "    +5.000     -7.000     +7.000     +7.000     +2.000     +5.000 \n",
            "    +0.000    -13.000     +2.000    +14.000     -3.000     +2.000 \n",
            "    +0.000     +0.000     +5.615     +9.308     -6.923     -3.385 \n",
            "    +0.000     +0.000     -0.000     +2.019     +5.989     +5.866 \n",
            "    +0.000     +0.000     +0.000     +0.000     -8.335    -16.138 \n",
            "    +0.000     +0.000     +0.000     +0.000     +0.000   +144.854 \n",
            "Свободные коэффициенты:\n",
            "       -57       -116       -116         36        -58          0 \n",
            "Вычисленное решение:\n",
            "         4          3         -7         -3          7          0 \n"
          ]
        }
      ]
    },
    {
      "cell_type": "markdown",
      "source": [
        "![image.png](data:image/png;base64,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)"
      ],
      "metadata": {
        "id": "qJCnEzr8QxYz"
      }
    },
    {
      "cell_type": "markdown",
      "source": [
        "\n",
        "# Tridiagonal matrix algorithm"
      ],
      "metadata": {
        "id": "NTHk0-2z6zKE"
      }
    },
    {
      "cell_type": "code",
      "source": [
        "matrix2 = [\n",
        "    [-8, 2, 0, 0, 0, 0],\n",
        "    [-2, -3, 5, 0, 0, 0],\n",
        "    [0, 6, 5, -1, 0, 0],\n",
        "    [0, 0, 4, -8, 3, 0],\n",
        "    [0, 0, 0, -8, 3, 1],\n",
        "    [0, 0, 0, 0, 5, 6],\n",
        "]\n",
        "\n",
        "coeff2 = [\n",
        "    40,\n",
        "    13,\n",
        "    -66,\n",
        "    24,\n",
        "    51,\n",
        "    22,\n",
        "]\n",
        "\n",
        "\n",
        "res2 = tridiagonal(matrix2,  coeff2)\n",
        "\n",
        "print('Матрица:')\n",
        "mprint(matrix2)\n",
        "print('Свободные коэффициенты:')\n",
        "fprint(coeff2)\n",
        "print('Вычисленное решение:')\n",
        "fprint(res2)"
      ],
      "metadata": {
        "colab": {
          "base_uri": "https://localhost:8080/"
        },
        "id": "Gd7sy87S69ae",
        "outputId": "790e31b2-5942-42ed-8ad0-492a4e28f822"
      },
      "execution_count": null,
      "outputs": [
        {
          "output_type": "stream",
          "name": "stdout",
          "text": [
            "Матрица:\n",
            "    -8.000     +2.000     +0.000     +0.000     +0.000     +0.000 \n",
            "    -2.000     -3.000     +5.000     +0.000     +0.000     +0.000 \n",
            "    +0.000     +6.000     +5.000     -1.000     +0.000     +0.000 \n",
            "    +0.000     +0.000     +4.000     -8.000     +3.000     +0.000 \n",
            "    +0.000     +0.000     +0.000     -8.000     +3.000     +1.000 \n",
            "    +0.000     +0.000     +0.000     +0.000     +5.000     +6.000 \n",
            "Свободные коэффициенты:\n",
            "        40         13        -66         24         51         22 \n",
            "Вычисленное решение:\n",
            "        -7         -8         -5         -7         -4          7 \n"
          ]
        }
      ]
    },
    {
      "cell_type": "markdown",
      "source": [
        "# Gauss for tridiagonal"
      ],
      "metadata": {
        "id": "pcoe90HUa70L"
      }
    },
    {
      "cell_type": "code",
      "source": [
        "matrix2 = [\n",
        "    [-8, 2, 0, 0, 0, 0],\n",
        "    [-2, -3, 5, 0, 0, 0],\n",
        "    [0, 6, 5, -1, 0, 0],\n",
        "    [0, 0, 4, -8, 3, 0],\n",
        "    [0, 0, 0, -8, 3, 1],\n",
        "    [0, 0, 0, 0, 5, 6],\n",
        "]\n",
        "\n",
        "coeff2 = [\n",
        "    40,\n",
        "    13,\n",
        "    -66,\n",
        "    24,\n",
        "    51,\n",
        "    22,\n",
        "]\n",
        "\n",
        "\n",
        "res2 = gauss(matrix2,  coeff2)\n",
        "\n",
        "print('Матрица:')\n",
        "mprint(matrix2)\n",
        "print('Свободные коэффициенты:')\n",
        "fprint(coeff2)\n",
        "print('Вычисленное решение:')\n",
        "fprint(res2)"
      ],
      "metadata": {
        "colab": {
          "base_uri": "https://localhost:8080/"
        },
        "id": "FK9kzsC3a3C9",
        "outputId": "385ab2ea-7f11-4196-d13a-dcd0ba01cda8"
      },
      "execution_count": null,
      "outputs": [
        {
          "output_type": "stream",
          "name": "stdout",
          "text": [
            "Матрица:\n",
            "    -8.000     +2.000     +0.000     +0.000     +0.000     +0.000 \n",
            "    +0.000     -3.500     +5.000     +0.000     +0.000     +0.000 \n",
            "    +0.000     +0.000    +13.571     -1.000     +0.000     +0.000 \n",
            "    +0.000     +0.000     +0.000     -7.705     +3.000     +0.000 \n",
            "    +0.000     +0.000     +0.000     +0.000     -0.115     +1.000 \n",
            "    +0.000     +0.000     +0.000     +0.000     +0.000    +49.571 \n",
            "Свободные коэффициенты:\n",
            "        40          3        -61         42          7        347 \n",
            "Вычисленное решение:\n",
            "        -7         -8         -5         -7         -4          7 \n"
          ]
        }
      ]
    },
    {
      "cell_type": "markdown",
      "source": [
        "# Tridiagonal for gauss"
      ],
      "metadata": {
        "id": "uAEWWuDKbitq"
      }
    },
    {
      "cell_type": "code",
      "source": [
        "matrix1 = [\n",
        "    [5, -7, 7, 7, 2, 5],\n",
        "    [-5, -6, -5, 7, -5, -3],\n",
        "    [0, 4, 5, 5, -6, -4],\n",
        "    [-8, 2, -6, 7, -4, -3],\n",
        "    [6, 4, 5, -6, 3, -7],\n",
        "    [6, 9, -6, 7, -8, -5],\n",
        "]\n",
        "\n",
        "coeff1 = [-57, -59, -80, -33, 40, 16]\n",
        "\n",
        "\n",
        "res1 = tridiagonal(matrix1, coeff1)\n",
        "\n",
        "print('Треугольный вид:')\n",
        "mprint(matrix1)\n",
        "print('Свободные коэффициенты:')\n",
        "fprint(coeff1)\n",
        "print('Вычисленное решение:')\n",
        "fprint(res1)"
      ],
      "metadata": {
        "colab": {
          "base_uri": "https://localhost:8080/"
        },
        "id": "7BGj7rKWbd7-",
        "outputId": "2f1c1046-b6ab-4961-b44f-0dc824f3b742"
      },
      "execution_count": null,
      "outputs": [
        {
          "output_type": "stream",
          "name": "stdout",
          "text": [
            "Треугольный вид:\n",
            "    +5.000     -7.000     +7.000     +7.000     +2.000     +5.000 \n",
            "    -5.000     -6.000     -5.000     +7.000     -5.000     -3.000 \n",
            "    +0.000     +4.000     +5.000     +5.000     -6.000     -4.000 \n",
            "    -8.000     +2.000     -6.000     +7.000     -4.000     -3.000 \n",
            "    +6.000     +4.000     +5.000     -6.000     +3.000     -7.000 \n",
            "    +6.000     +9.000     -6.000     +7.000     -8.000     -5.000 \n",
            "Свободные коэффициенты:\n",
            "       -57        -59        -80        -33         40         16 \n",
            "Вычисленное решение:\n",
            "         6         13        -10        -16         -6          6 \n"
          ]
        }
      ]
    },
    {
      "cell_type": "code",
      "source": [
        "\n",
        "matrix1 = [\n",
        "    [5, 6, 8, 9],\n",
        "    [7, 9, 1, 1],\n",
        "    [3, 2, 11, 15],\n",
        "    [16, 18, 3, 5],\n",
        "]\n",
        "\n",
        "coeff1 = [7, 2, 3, 9]\n",
        "\n",
        "\n",
        "res1 = gauss(matrix1, coeff1)\n",
        "\n",
        "print('Треугольный вид:')\n",
        "mprint(matrix1)\n",
        "print('Свободные коэффициенты:')\n",
        "fprint(coeff1)\n",
        "print('Вычисленное решение:')\n",
        "fprint(res1)\n"
      ],
      "metadata": {
        "colab": {
          "base_uri": "https://localhost:8080/"
        },
        "id": "AW_0vgQ2c-XY",
        "outputId": "303adf5d-c88d-448f-c454-db887409aafc"
      },
      "execution_count": null,
      "outputs": [
        {
          "output_type": "stream",
          "name": "stdout",
          "text": [
            "Треугольный вид:\n",
            "    +5.000     +6.000     +8.000     +9.000 \n",
            "    +0.000     +0.600    -10.200    -11.600 \n",
            "    +0.000     +0.000    -21.000    -21.333 \n",
            "    +0.000     +0.000     +0.000     -3.317 \n",
            "Свободные коэффициенты:\n",
            "    +7.000     -7.800    -22.000    +16.048 \n",
            "Вычисленное решение:\n",
            "    +6.775     -5.172     +5.962     -4.837 \n"
          ]
        }
      ]
    }
  ]
}